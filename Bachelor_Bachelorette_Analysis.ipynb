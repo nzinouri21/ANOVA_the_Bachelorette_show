{
 "cells": [
  {
   "cell_type": "markdown",
   "metadata": {},
   "source": [
    "## <font color=0ABB75> Imports </font>"
   ]
  },
  {
   "cell_type": "code",
   "execution_count": 154,
   "metadata": {},
   "outputs": [],
   "source": [
    "import pandas as pd\n",
    "import numpy as np\n",
    "import warnings\n",
    "warnings.filterwarnings('ignore')\n",
    "import researchpy as rp\n",
    "import scipy.stats as stats\n",
    "import statsmodels.stats.multicomp as mc\n",
    "import matplotlib.pyplot as plt\n",
    "import statsmodels.api as sm\n",
    "from statsmodels.formula.api import ols"
   ]
  },
  {
   "cell_type": "markdown",
   "metadata": {},
   "source": [
    "## <font color=0ABB75> Rading csv files into Pandas dataframes </font>"
   ]
  },
  {
   "cell_type": "code",
   "execution_count": 155,
   "metadata": {},
   "outputs": [],
   "source": [
    "Bachelorettes_df = pd.read_csv('bachelorettes.csv')\n",
    "Bachelorette_contestants_df = pd.read_csv('bachelorette-contestants.csv')"
   ]
  },
  {
   "cell_type": "code",
   "execution_count": 156,
   "metadata": {},
   "outputs": [
    {
     "data": {
      "text/html": [
       "<div>\n",
       "<style scoped>\n",
       "    .dataframe tbody tr th:only-of-type {\n",
       "        vertical-align: middle;\n",
       "    }\n",
       "\n",
       "    .dataframe tbody tr th {\n",
       "        vertical-align: top;\n",
       "    }\n",
       "\n",
       "    .dataframe thead th {\n",
       "        text-align: right;\n",
       "    }\n",
       "</style>\n",
       "<table border=\"1\" class=\"dataframe\">\n",
       "  <thead>\n",
       "    <tr style=\"text-align: right;\">\n",
       "      <th></th>\n",
       "      <th>Name</th>\n",
       "      <th>Age</th>\n",
       "      <th>Occupation</th>\n",
       "      <th>Hometown</th>\n",
       "      <th>Season</th>\n",
       "    </tr>\n",
       "  </thead>\n",
       "  <tbody>\n",
       "    <tr>\n",
       "      <td>0</td>\n",
       "      <td>Trista Rehn</td>\n",
       "      <td>30.0</td>\n",
       "      <td>Physical therapist</td>\n",
       "      <td>Indianapolis, Indiana</td>\n",
       "      <td>1</td>\n",
       "    </tr>\n",
       "    <tr>\n",
       "      <td>1</td>\n",
       "      <td>Meredith Phillips</td>\n",
       "      <td>NaN</td>\n",
       "      <td>Makeup artist</td>\n",
       "      <td>NaN</td>\n",
       "      <td>2</td>\n",
       "    </tr>\n",
       "    <tr>\n",
       "      <td>2</td>\n",
       "      <td>Jennifer \"Jen\" Schefft</td>\n",
       "      <td>NaN</td>\n",
       "      <td>Publicist</td>\n",
       "      <td>NaN</td>\n",
       "      <td>3</td>\n",
       "    </tr>\n",
       "  </tbody>\n",
       "</table>\n",
       "</div>"
      ],
      "text/plain": [
       "                     Name   Age          Occupation               Hometown  \\\n",
       "0             Trista Rehn  30.0  Physical therapist  Indianapolis, Indiana   \n",
       "1       Meredith Phillips   NaN       Makeup artist                    NaN   \n",
       "2  Jennifer \"Jen\" Schefft   NaN           Publicist                    NaN   \n",
       "\n",
       "   Season  \n",
       "0       1  \n",
       "1       2  \n",
       "2       3  "
      ]
     },
     "execution_count": 156,
     "metadata": {},
     "output_type": "execute_result"
    }
   ],
   "source": [
    "Bachelorettes_df.head(3)"
   ]
  },
  {
   "cell_type": "code",
   "execution_count": 157,
   "metadata": {},
   "outputs": [
    {
     "data": {
      "text/html": [
       "<div>\n",
       "<style scoped>\n",
       "    .dataframe tbody tr th:only-of-type {\n",
       "        vertical-align: middle;\n",
       "    }\n",
       "\n",
       "    .dataframe tbody tr th {\n",
       "        vertical-align: top;\n",
       "    }\n",
       "\n",
       "    .dataframe thead th {\n",
       "        text-align: right;\n",
       "    }\n",
       "</style>\n",
       "<table border=\"1\" class=\"dataframe\">\n",
       "  <thead>\n",
       "    <tr style=\"text-align: right;\">\n",
       "      <th></th>\n",
       "      <th>Name</th>\n",
       "      <th>Age</th>\n",
       "      <th>Occupation</th>\n",
       "      <th>Hometown</th>\n",
       "      <th>ElimWeek</th>\n",
       "      <th>Season</th>\n",
       "    </tr>\n",
       "  </thead>\n",
       "  <tbody>\n",
       "    <tr>\n",
       "      <td>0</td>\n",
       "      <td>Ryan Sutter</td>\n",
       "      <td>29</td>\n",
       "      <td>Firefighter</td>\n",
       "      <td>Vail, Colorado</td>\n",
       "      <td>NaN</td>\n",
       "      <td>1</td>\n",
       "    </tr>\n",
       "    <tr>\n",
       "      <td>1</td>\n",
       "      <td>Charlie Maher</td>\n",
       "      <td>28</td>\n",
       "      <td>Financial Analyst</td>\n",
       "      <td>Hermosa Beach, California</td>\n",
       "      <td>6.0</td>\n",
       "      <td>1</td>\n",
       "    </tr>\n",
       "    <tr>\n",
       "      <td>2</td>\n",
       "      <td>Russ</td>\n",
       "      <td>30</td>\n",
       "      <td>Writer</td>\n",
       "      <td>San Rafael, California</td>\n",
       "      <td>5.0</td>\n",
       "      <td>1</td>\n",
       "    </tr>\n",
       "  </tbody>\n",
       "</table>\n",
       "</div>"
      ],
      "text/plain": [
       "            Name  Age         Occupation                   Hometown  ElimWeek  \\\n",
       "0    Ryan Sutter   29        Firefighter             Vail, Colorado       NaN   \n",
       "1  Charlie Maher   28  Financial Analyst  Hermosa Beach, California       6.0   \n",
       "2           Russ   30             Writer     San Rafael, California       5.0   \n",
       "\n",
       "   Season  \n",
       "0       1  \n",
       "1       1  \n",
       "2       1  "
      ]
     },
     "execution_count": 157,
     "metadata": {},
     "output_type": "execute_result"
    }
   ],
   "source": [
    "Bachelorette_contestants_df.head(3)"
   ]
  },
  {
   "cell_type": "code",
   "execution_count": 158,
   "metadata": {},
   "outputs": [
    {
     "name": "stdout",
     "output_type": "stream",
     "text": [
      "<class 'pandas.core.frame.DataFrame'>\n",
      "RangeIndex: 13 entries, 0 to 12\n",
      "Data columns (total 5 columns):\n",
      "Name          13 non-null object\n",
      "Age           8 non-null float64\n",
      "Occupation    13 non-null object\n",
      "Hometown      9 non-null object\n",
      "Season        13 non-null int64\n",
      "dtypes: float64(1), int64(1), object(3)\n",
      "memory usage: 648.0+ bytes\n"
     ]
    }
   ],
   "source": [
    "Bachelorettes_df.info()"
   ]
  },
  {
   "cell_type": "code",
   "execution_count": 159,
   "metadata": {},
   "outputs": [
    {
     "data": {
      "text/plain": [
       "array([ 1,  2,  3,  4,  5,  6,  7,  8,  9, 10, 11, 12, 13])"
      ]
     },
     "execution_count": 159,
     "metadata": {},
     "output_type": "execute_result"
    }
   ],
   "source": [
    "Bachelorettes_df['Season'].unique()"
   ]
  },
  {
   "cell_type": "code",
   "execution_count": 160,
   "metadata": {},
   "outputs": [
    {
     "name": "stdout",
     "output_type": "stream",
     "text": [
      "<class 'pandas.core.frame.DataFrame'>\n",
      "RangeIndex: 282 entries, 0 to 281\n",
      "Data columns (total 6 columns):\n",
      "Name          282 non-null object\n",
      "Age           282 non-null int64\n",
      "Occupation    282 non-null object\n",
      "Hometown      282 non-null object\n",
      "ElimWeek      271 non-null float64\n",
      "Season        282 non-null int64\n",
      "dtypes: float64(1), int64(2), object(3)\n",
      "memory usage: 13.3+ KB\n"
     ]
    }
   ],
   "source": [
    "Bachelorette_contestants_df.info()"
   ]
  },
  {
   "cell_type": "code",
   "execution_count": 161,
   "metadata": {},
   "outputs": [
    {
     "data": {
      "text/plain": [
       "array([ 1,  2,  4,  5,  6,  7,  8,  9, 10, 11, 12])"
      ]
     },
     "execution_count": 161,
     "metadata": {},
     "output_type": "execute_result"
    }
   ],
   "source": [
    "Bachelorette_contestants_df['Season'].unique()"
   ]
  },
  {
   "cell_type": "markdown",
   "metadata": {},
   "source": [
    "<font color=137E54>We are missing Bachelorette Contestants for season 13.</font>"
   ]
  },
  {
   "cell_type": "markdown",
   "metadata": {},
   "source": [
    "## <font color=0ABB75> Data Cleanup  </font>"
   ]
  },
  {
   "cell_type": "markdown",
   "metadata": {},
   "source": [
    "<font color=137E54>I would like to clean the data a little bit first since I noticed some missing values.<br/>\n",
    "We are missig 5 values in __*Age*__ filed and 4 from __*Hometown*__.<br/>\n",
    "I do not want to remove any contestants missing __*ElimWeek*__ because they could be the winners.</font>"
   ]
  },
  {
   "cell_type": "code",
   "execution_count": 162,
   "metadata": {},
   "outputs": [],
   "source": [
    "Bachelorettes_df = Bachelorettes_df[~Bachelorettes_df['Age'].isnull() & ~Bachelorettes_df['Hometown'].isnull()]"
   ]
  },
  {
   "cell_type": "code",
   "execution_count": 163,
   "metadata": {},
   "outputs": [
    {
     "data": {
      "text/plain": [
       "array([ 1,  5,  6,  9, 10, 11, 12, 13])"
      ]
     },
     "execution_count": 163,
     "metadata": {},
     "output_type": "execute_result"
    }
   ],
   "source": [
    "Bachelorettes_df['Season'].unique()"
   ]
  },
  {
   "cell_type": "markdown",
   "metadata": {},
   "source": [
    "<font color=137E54> It'll be easier to work with the two datasets joined together.<br/>\n",
    "    Let's join each bachelorette to it's contestants by season!<font>"
   ]
  },
  {
   "cell_type": "code",
   "execution_count": 164,
   "metadata": {},
   "outputs": [],
   "source": [
    "full_bachelorette_df = pd.merge(Bachelorette_contestants_df, Bachelorettes_df, left_on=  ['Season'],\\\n",
    "                   right_on= ['Season'], \\\n",
    "                   how = 'inner')"
   ]
  },
  {
   "cell_type": "code",
   "execution_count": 165,
   "metadata": {},
   "outputs": [],
   "source": [
    "full_bachelorette_df.columns=['Contestant_Name','Contestant_Age','Contestant_Occupation','Contestant_Hometown','Elim_Week','Season',\\\n",
    "                             'Bachelorette_Name','Bachelorette_Age','Bachelorette_Occupation','Bachelorette_Hometown']"
   ]
  },
  {
   "cell_type": "code",
   "execution_count": 166,
   "metadata": {},
   "outputs": [
    {
     "data": {
      "text/html": [
       "<div>\n",
       "<style scoped>\n",
       "    .dataframe tbody tr th:only-of-type {\n",
       "        vertical-align: middle;\n",
       "    }\n",
       "\n",
       "    .dataframe tbody tr th {\n",
       "        vertical-align: top;\n",
       "    }\n",
       "\n",
       "    .dataframe thead th {\n",
       "        text-align: right;\n",
       "    }\n",
       "</style>\n",
       "<table border=\"1\" class=\"dataframe\">\n",
       "  <thead>\n",
       "    <tr style=\"text-align: right;\">\n",
       "      <th></th>\n",
       "      <th>Contestant_Name</th>\n",
       "      <th>Contestant_Age</th>\n",
       "      <th>Contestant_Occupation</th>\n",
       "      <th>Contestant_Hometown</th>\n",
       "      <th>Elim_Week</th>\n",
       "      <th>Season</th>\n",
       "      <th>Bachelorette_Name</th>\n",
       "      <th>Bachelorette_Age</th>\n",
       "      <th>Bachelorette_Occupation</th>\n",
       "      <th>Bachelorette_Hometown</th>\n",
       "    </tr>\n",
       "  </thead>\n",
       "  <tbody>\n",
       "    <tr>\n",
       "      <td>0</td>\n",
       "      <td>Ryan Sutter</td>\n",
       "      <td>29</td>\n",
       "      <td>Firefighter</td>\n",
       "      <td>Vail, Colorado</td>\n",
       "      <td>NaN</td>\n",
       "      <td>1</td>\n",
       "      <td>Trista Rehn</td>\n",
       "      <td>30.0</td>\n",
       "      <td>Physical therapist</td>\n",
       "      <td>Indianapolis, Indiana</td>\n",
       "    </tr>\n",
       "    <tr>\n",
       "      <td>25</td>\n",
       "      <td>Ed Swiderski</td>\n",
       "      <td>29</td>\n",
       "      <td>Technology Consultant</td>\n",
       "      <td>Monroe, Michigan</td>\n",
       "      <td>NaN</td>\n",
       "      <td>5</td>\n",
       "      <td>Jillian Harris</td>\n",
       "      <td>29.0</td>\n",
       "      <td>Interior designer</td>\n",
       "      <td>Vancouver, British Columbia, Canada</td>\n",
       "    </tr>\n",
       "    <tr>\n",
       "      <td>55</td>\n",
       "      <td>Roberto Martinez</td>\n",
       "      <td>26</td>\n",
       "      <td>Insurance Agent</td>\n",
       "      <td>Tampa, Florida</td>\n",
       "      <td>NaN</td>\n",
       "      <td>6</td>\n",
       "      <td>Ali Fedotowsky</td>\n",
       "      <td>25.0</td>\n",
       "      <td>Advertising account manager</td>\n",
       "      <td>Massachusetts</td>\n",
       "    </tr>\n",
       "    <tr>\n",
       "      <td>80</td>\n",
       "      <td>Chris Siegfried</td>\n",
       "      <td>27</td>\n",
       "      <td>Mortgage Broker</td>\n",
       "      <td>McMinnville, Oregon</td>\n",
       "      <td>NaN</td>\n",
       "      <td>9</td>\n",
       "      <td>Desiree Hartsock</td>\n",
       "      <td>27.0</td>\n",
       "      <td>Bridal stylist</td>\n",
       "      <td>Colorado</td>\n",
       "    </tr>\n",
       "    <tr>\n",
       "      <td>105</td>\n",
       "      <td>Josh Murray</td>\n",
       "      <td>29</td>\n",
       "      <td>Former Professional Baseball Player</td>\n",
       "      <td>Athens, Georgia</td>\n",
       "      <td>NaN</td>\n",
       "      <td>10</td>\n",
       "      <td>Andi Dorfman</td>\n",
       "      <td>26.0</td>\n",
       "      <td>Assistant District Attorney</td>\n",
       "      <td>Atlanta, Georgia</td>\n",
       "    </tr>\n",
       "    <tr>\n",
       "      <td>130</td>\n",
       "      <td>Shawn Booth</td>\n",
       "      <td>28</td>\n",
       "      <td>Personal Trainer</td>\n",
       "      <td>Windsor Locks, Connecticut</td>\n",
       "      <td>NaN</td>\n",
       "      <td>11</td>\n",
       "      <td>Kaitlyn Bristowe</td>\n",
       "      <td>29.0</td>\n",
       "      <td>Dance Instructor</td>\n",
       "      <td>Vancouver, British Columbia, Canada</td>\n",
       "    </tr>\n",
       "    <tr>\n",
       "      <td>156</td>\n",
       "      <td>Jordan Rodgers</td>\n",
       "      <td>27</td>\n",
       "      <td>Former Pro Quarterback</td>\n",
       "      <td>Chico, California</td>\n",
       "      <td>NaN</td>\n",
       "      <td>12</td>\n",
       "      <td>Joelle \"JoJo\" Fletcher</td>\n",
       "      <td>25.0</td>\n",
       "      <td>Real Estate Developer</td>\n",
       "      <td>Dallas, Texas</td>\n",
       "    </tr>\n",
       "  </tbody>\n",
       "</table>\n",
       "</div>"
      ],
      "text/plain": [
       "      Contestant_Name  Contestant_Age                Contestant_Occupation  \\\n",
       "0         Ryan Sutter              29                          Firefighter   \n",
       "25       Ed Swiderski              29                Technology Consultant   \n",
       "55   Roberto Martinez              26                      Insurance Agent   \n",
       "80    Chris Siegfried              27                      Mortgage Broker   \n",
       "105       Josh Murray              29  Former Professional Baseball Player   \n",
       "130       Shawn Booth              28                     Personal Trainer   \n",
       "156    Jordan Rodgers              27               Former Pro Quarterback   \n",
       "\n",
       "            Contestant_Hometown  Elim_Week  Season       Bachelorette_Name  \\\n",
       "0                Vail, Colorado        NaN       1             Trista Rehn   \n",
       "25             Monroe, Michigan        NaN       5          Jillian Harris   \n",
       "55               Tampa, Florida        NaN       6          Ali Fedotowsky   \n",
       "80          McMinnville, Oregon        NaN       9        Desiree Hartsock   \n",
       "105             Athens, Georgia        NaN      10            Andi Dorfman   \n",
       "130  Windsor Locks, Connecticut        NaN      11        Kaitlyn Bristowe   \n",
       "156           Chico, California        NaN      12  Joelle \"JoJo\" Fletcher   \n",
       "\n",
       "     Bachelorette_Age      Bachelorette_Occupation  \\\n",
       "0                30.0           Physical therapist   \n",
       "25               29.0            Interior designer   \n",
       "55               25.0  Advertising account manager   \n",
       "80               27.0               Bridal stylist   \n",
       "105              26.0  Assistant District Attorney   \n",
       "130              29.0             Dance Instructor   \n",
       "156              25.0        Real Estate Developer   \n",
       "\n",
       "                   Bachelorette_Hometown  \n",
       "0                  Indianapolis, Indiana  \n",
       "25   Vancouver, British Columbia, Canada  \n",
       "55                         Massachusetts  \n",
       "80                              Colorado  \n",
       "105                     Atlanta, Georgia  \n",
       "130  Vancouver, British Columbia, Canada  \n",
       "156                        Dallas, Texas  "
      ]
     },
     "execution_count": 166,
     "metadata": {},
     "output_type": "execute_result"
    }
   ],
   "source": [
    "full_bachelorette_df[full_bachelorette_df['Elim_Week'].isnull()]"
   ]
  },
  {
   "cell_type": "code",
   "execution_count": 167,
   "metadata": {},
   "outputs": [
    {
     "data": {
      "text/plain": [
       "array([ 1,  5,  6,  9, 10, 11, 12])"
      ]
     },
     "execution_count": 167,
     "metadata": {},
     "output_type": "execute_result"
    }
   ],
   "source": [
    "full_bachelorette_df['Season'].unique()"
   ]
  },
  {
   "cell_type": "markdown",
   "metadata": {},
   "source": [
    "<font color=137E54>Looks like we have full data for 7 Bachelorette seasons, 1, 5, 6, 9, 10, 11, and 12..</font>"
   ]
  },
  {
   "cell_type": "markdown",
   "metadata": {},
   "source": [
    "<font color=137E54>There are total of 8 contestant without an elimination week which is the same as the number of seasons. Those are our winners so our data looks good.</font>"
   ]
  },
  {
   "cell_type": "code",
   "execution_count": 168,
   "metadata": {},
   "outputs": [
    {
     "name": "stdout",
     "output_type": "stream",
     "text": [
      "1.0\n",
      "10.0\n"
     ]
    }
   ],
   "source": [
    "print(full_bachelorette_df['Elim_Week'].min())\n",
    "print(full_bachelorette_df['Elim_Week'].max())"
   ]
  },
  {
   "cell_type": "markdown",
   "metadata": {},
   "source": [
    "# <font color=0ABB75> Question 1  </font>"
   ]
  },
  {
   "cell_type": "markdown",
   "metadata": {},
   "source": [
    "## <font color=0ABB75> Is there a significant difference in the age gap between the Bachelorette and the contestants in different seasons?  <br/>\n",
    "## <font color=0ABB75>One-Way ANOVA</font>"
   ]
  },
  {
   "cell_type": "markdown",
   "metadata": {},
   "source": [
    "<font color=137E54>For this, we don’t need all the columns, so let's filter down to what’s needed.</font>"
   ]
  },
  {
   "cell_type": "code",
   "execution_count": 169,
   "metadata": {},
   "outputs": [],
   "source": [
    "Bachelorette_age_gap_df = full_bachelorette_df[['Contestant_Name','Contestant_Age','Bachelorette_Age','Season','Bachelorette_Name']]"
   ]
  },
  {
   "cell_type": "code",
   "execution_count": 170,
   "metadata": {},
   "outputs": [],
   "source": [
    "Bachelorette_age_gap_df['Age_Gap']=Bachelorette_age_gap_df['Contestant_Age']-Bachelorette_age_gap_df['Bachelorette_Age']"
   ]
  },
  {
   "cell_type": "code",
   "execution_count": 171,
   "metadata": {},
   "outputs": [
    {
     "data": {
      "text/html": [
       "<div>\n",
       "<style scoped>\n",
       "    .dataframe tbody tr th:only-of-type {\n",
       "        vertical-align: middle;\n",
       "    }\n",
       "\n",
       "    .dataframe tbody tr th {\n",
       "        vertical-align: top;\n",
       "    }\n",
       "\n",
       "    .dataframe thead th {\n",
       "        text-align: right;\n",
       "    }\n",
       "</style>\n",
       "<table border=\"1\" class=\"dataframe\">\n",
       "  <thead>\n",
       "    <tr style=\"text-align: right;\">\n",
       "      <th></th>\n",
       "      <th>Contestant_Name</th>\n",
       "      <th>Contestant_Age</th>\n",
       "      <th>Bachelorette_Age</th>\n",
       "      <th>Season</th>\n",
       "      <th>Bachelorette_Name</th>\n",
       "      <th>Age_Gap</th>\n",
       "    </tr>\n",
       "  </thead>\n",
       "  <tbody>\n",
       "    <tr>\n",
       "      <td>0</td>\n",
       "      <td>Ryan Sutter</td>\n",
       "      <td>29</td>\n",
       "      <td>30.0</td>\n",
       "      <td>1</td>\n",
       "      <td>Trista Rehn</td>\n",
       "      <td>-1.0</td>\n",
       "    </tr>\n",
       "    <tr>\n",
       "      <td>1</td>\n",
       "      <td>Charlie Maher</td>\n",
       "      <td>28</td>\n",
       "      <td>30.0</td>\n",
       "      <td>1</td>\n",
       "      <td>Trista Rehn</td>\n",
       "      <td>-2.0</td>\n",
       "    </tr>\n",
       "    <tr>\n",
       "      <td>2</td>\n",
       "      <td>Russ</td>\n",
       "      <td>30</td>\n",
       "      <td>30.0</td>\n",
       "      <td>1</td>\n",
       "      <td>Trista Rehn</td>\n",
       "      <td>0.0</td>\n",
       "    </tr>\n",
       "    <tr>\n",
       "      <td>3</td>\n",
       "      <td>Greg T.</td>\n",
       "      <td>28</td>\n",
       "      <td>30.0</td>\n",
       "      <td>1</td>\n",
       "      <td>Trista Rehn</td>\n",
       "      <td>-2.0</td>\n",
       "    </tr>\n",
       "    <tr>\n",
       "      <td>4</td>\n",
       "      <td>Bob Guiney</td>\n",
       "      <td>31</td>\n",
       "      <td>30.0</td>\n",
       "      <td>1</td>\n",
       "      <td>Trista Rehn</td>\n",
       "      <td>1.0</td>\n",
       "    </tr>\n",
       "  </tbody>\n",
       "</table>\n",
       "</div>"
      ],
      "text/plain": [
       "  Contestant_Name  Contestant_Age  Bachelorette_Age  Season Bachelorette_Name  \\\n",
       "0     Ryan Sutter              29              30.0       1       Trista Rehn   \n",
       "1   Charlie Maher              28              30.0       1       Trista Rehn   \n",
       "2            Russ              30              30.0       1       Trista Rehn   \n",
       "3         Greg T.              28              30.0       1       Trista Rehn   \n",
       "4      Bob Guiney              31              30.0       1       Trista Rehn   \n",
       "\n",
       "   Age_Gap  \n",
       "0     -1.0  \n",
       "1     -2.0  \n",
       "2      0.0  \n",
       "3     -2.0  \n",
       "4      1.0  "
      ]
     },
     "execution_count": 171,
     "metadata": {},
     "output_type": "execute_result"
    }
   ],
   "source": [
    "Bachelorette_age_gap_df.head()"
   ]
  },
  {
   "cell_type": "code",
   "execution_count": 172,
   "metadata": {},
   "outputs": [
    {
     "data": {
      "text/plain": [
       "12.0"
      ]
     },
     "execution_count": 172,
     "metadata": {},
     "output_type": "execute_result"
    }
   ],
   "source": [
    "Bachelorette_age_gap_df['Age_Gap'].max()"
   ]
  },
  {
   "cell_type": "code",
   "execution_count": 173,
   "metadata": {},
   "outputs": [
    {
     "data": {
      "text/html": [
       "<div>\n",
       "<style scoped>\n",
       "    .dataframe tbody tr th:only-of-type {\n",
       "        vertical-align: middle;\n",
       "    }\n",
       "\n",
       "    .dataframe tbody tr th {\n",
       "        vertical-align: top;\n",
       "    }\n",
       "\n",
       "    .dataframe thead th {\n",
       "        text-align: right;\n",
       "    }\n",
       "</style>\n",
       "<table border=\"1\" class=\"dataframe\">\n",
       "  <thead>\n",
       "    <tr style=\"text-align: right;\">\n",
       "      <th></th>\n",
       "      <th>Contestant_Name</th>\n",
       "      <th>Contestant_Age</th>\n",
       "      <th>Bachelorette_Age</th>\n",
       "      <th>Season</th>\n",
       "      <th>Bachelorette_Name</th>\n",
       "      <th>Age_Gap</th>\n",
       "    </tr>\n",
       "  </thead>\n",
       "  <tbody>\n",
       "    <tr>\n",
       "      <td>21</td>\n",
       "      <td>Matt</td>\n",
       "      <td>42</td>\n",
       "      <td>30.0</td>\n",
       "      <td>1</td>\n",
       "      <td>Trista Rehn</td>\n",
       "      <td>12.0</td>\n",
       "    </tr>\n",
       "  </tbody>\n",
       "</table>\n",
       "</div>"
      ],
      "text/plain": [
       "   Contestant_Name  Contestant_Age  Bachelorette_Age  Season  \\\n",
       "21            Matt              42              30.0       1   \n",
       "\n",
       "   Bachelorette_Name  Age_Gap  \n",
       "21       Trista Rehn     12.0  "
      ]
     },
     "execution_count": 173,
     "metadata": {},
     "output_type": "execute_result"
    }
   ],
   "source": [
    "Bachelorette_age_gap_df[Bachelorette_age_gap_df['Age_Gap']==12]"
   ]
  },
  {
   "cell_type": "code",
   "execution_count": 174,
   "metadata": {},
   "outputs": [],
   "source": [
    "#Bachelorette_age_gap_df = Bachelorette_age_gap_df[Bachelorette_age_gap_df['Age_Gap']!=12]"
   ]
  },
  {
   "cell_type": "markdown",
   "metadata": {},
   "source": [
    "## <font color=0ABB75> ANOVA Assumption Check"
   ]
  },
  {
   "cell_type": "markdown",
   "metadata": {},
   "source": [
    "<font color=137E54>We need to check for three assumptions to use a non-parametric statistical test such as Welch's ANOVA or the Kruskal-Wallis ANOVA:<br/>\n",
    "<font color=137E54>**1. Independence:** This means is that all groups are mutually exclusive, i.e. an individual can only belong in one group. Also, that the data is not repeated measures (not collected through time). In this example, this condition is met.<br/>\n",
    "<font color=137E54>**2. Normality:** For an ANOVA or regression model, we can test this by looking at model residuals. Each residual is the difference between a entered value and the mean of all values for that group. We will use graphical method, probability plot.<br/>\n",
    "<font color=137E54>**3. Homogeneity of variance:** We need to assure that all groups have equal variances. One method for testing this assumption is the Levene's test of homogeneity of variances."
   ]
  },
  {
   "cell_type": "markdown",
   "metadata": {},
   "source": [
    "### <font color=0ABB75> Normality - Probability Plot\n"
   ]
  },
  {
   "cell_type": "code",
   "execution_count": 178,
   "metadata": {},
   "outputs": [
    {
     "data": {
      "text/html": [
       "<div>\n",
       "<style scoped>\n",
       "    .dataframe tbody tr th:only-of-type {\n",
       "        vertical-align: middle;\n",
       "    }\n",
       "\n",
       "    .dataframe tbody tr th {\n",
       "        vertical-align: top;\n",
       "    }\n",
       "\n",
       "    .dataframe thead th {\n",
       "        text-align: right;\n",
       "    }\n",
       "</style>\n",
       "<table border=\"1\" class=\"dataframe\">\n",
       "  <thead>\n",
       "    <tr style=\"text-align: right;\">\n",
       "      <th></th>\n",
       "      <th>sum_sq</th>\n",
       "      <th>df</th>\n",
       "      <th>F</th>\n",
       "      <th>PR(&gt;F)</th>\n",
       "    </tr>\n",
       "  </thead>\n",
       "  <tbody>\n",
       "    <tr>\n",
       "      <td>C(Season)</td>\n",
       "      <td>476.837949</td>\n",
       "      <td>6.0</td>\n",
       "      <td>10.037473</td>\n",
       "      <td>1.599050e-09</td>\n",
       "    </tr>\n",
       "    <tr>\n",
       "      <td>Residual</td>\n",
       "      <td>1385.585128</td>\n",
       "      <td>175.0</td>\n",
       "      <td>NaN</td>\n",
       "      <td>NaN</td>\n",
       "    </tr>\n",
       "  </tbody>\n",
       "</table>\n",
       "</div>"
      ],
      "text/plain": [
       "                sum_sq     df          F        PR(>F)\n",
       "C(Season)   476.837949    6.0  10.037473  1.599050e-09\n",
       "Residual   1385.585128  175.0        NaN           NaN"
      ]
     },
     "execution_count": 178,
     "metadata": {},
     "output_type": "execute_result"
    }
   ],
   "source": [
    "model = ols('Age_Gap ~ C(Season)', data=Bachelorette_age_gap_df).fit()\n",
    "aov_table = sm.stats.anova_lm(model, typ=2)\n",
    "aov_table"
   ]
  },
  {
   "cell_type": "code",
   "execution_count": 186,
   "metadata": {},
   "outputs": [
    {
     "data": {
      "image/png": "[encoded data removed]",
      "text/plain": [
       "<Figure size 864x720 with 1 Axes>"
      ]
     },
     "metadata": {
      "needs_background": "light"
     },
     "output_type": "display_data"
    }
   ],
   "source": [
    "fig = plt.figure(figsize= (12, 10))\n",
    "ax = fig.add_subplot(111)\n",
    "\n",
    "from matplotlib import rc\n",
    "rc('font',**{'family':'sans-serif','sans-serif':['Helvetica']})\n",
    "#rc('font',**{'family':'serif','serif':['Times']})\n",
    "\n",
    "normality_plot, stat = stats.probplot(model.resid, plot= plt, rvalue= True)\n",
    "ax.set_title(\"Probability plot of Bachelorette's ANOVA model residual's\", fontsize= 18)\n",
    "ax.set\n",
    "\n",
    "plt.show()"
   ]
  },
  {
   "cell_type": "markdown",
   "metadata": {},
   "source": [
    "<font color=137E54>**Probability plot:**The probability plot plots the ordered data against the theoretical distribution. The better the ordered data fits the theoretical distribution, the less deviation there will be from the fit line that is in the middle of the graph.It is reasonable to state normality assumption is met. However, looking at the plotted probability plot and the residual structure it would also be reasonable to transform the data for the analysis, or to use a non-parametric statistical test such as Welch's ANOVA or the Kruskal-Wallis ANOVA."
   ]
  },
  {
   "cell_type": "code",
   "execution_count": 177,
   "metadata": {},
   "outputs": [
    {
     "data": {
      "text/plain": [
       "(0.9478061199188232, 3.209045189578319e-06)"
      ]
     },
     "execution_count": 177,
     "metadata": {},
     "output_type": "execute_result"
    }
   ],
   "source": [
    "stats.shapiro(model.resid)"
   ]
  },
  {
   "cell_type": "markdown",
   "metadata": {},
   "source": [
    "<font color=137E54>**Shapiro-Wilk test:**The test is non-significant, W= 0.947, p= 0.000003, since P-value is less than 0.05, it rejects the null hypothesis that the data is normally distributed. However, our residual plot shows otherwise and our sample size is relatively large."
   ]
  },
  {
   "cell_type": "markdown",
   "metadata": {},
   "source": [
    "### <font color=0ABB75> Homogeneity of variance - Levene's test\n"
   ]
  },
  {
   "cell_type": "code",
   "execution_count": 180,
   "metadata": {},
   "outputs": [
    {
     "data": {
      "text/plain": [
       "LeveneResult(statistic=0.9092114664299475, pvalue=0.4895945942227651)"
      ]
     },
     "execution_count": 180,
     "metadata": {},
     "output_type": "execute_result"
    }
   ],
   "source": [
    "stats.levene(Bachelorette_age_gap_df['Age_Gap'][Bachelorette_age_gap_df['Season'] == 1],\\\n",
    "               Bachelorette_age_gap_df['Age_Gap'][Bachelorette_age_gap_df['Season'] == 5],\\\n",
    "               Bachelorette_age_gap_df['Age_Gap'][Bachelorette_age_gap_df['Season'] == 6],\\\n",
    "              Bachelorette_age_gap_df['Age_Gap'][Bachelorette_age_gap_df['Season'] == 9],\\\n",
    "              Bachelorette_age_gap_df['Age_Gap'][Bachelorette_age_gap_df['Season'] == 10],\\\n",
    "              Bachelorette_age_gap_df['Age_Gap'][Bachelorette_age_gap_df['Season'] == 11],\\\n",
    "              Bachelorette_age_gap_df['Age_Gap'][Bachelorette_age_gap_df['Season'] == 12])"
   ]
  },
  {
   "cell_type": "markdown",
   "metadata": {},
   "source": [
    "<font color=137E54> p-value is greater that 0.05 which indicates that the groups have non-statistically significant difference in their varability. Again, it may be worthwhile to check this assumption visually as well."
   ]
  },
  {
   "cell_type": "code",
   "execution_count": 187,
   "metadata": {},
   "outputs": [
    {
     "data": {
      "image/png": "[encoded data removed]",
      "text/plain": [
       "<Figure size 864x720 with 1 Axes>"
      ]
     },
     "metadata": {
      "needs_background": "light"
     },
     "output_type": "display_data"
    }
   ],
   "source": [
    "fig = plt.figure(figsize= (12, 10))\n",
    "ax = fig.add_subplot(111)\n",
    "\n",
    "ax.set_title(\"Box Plot of Age Gap by Bachelorette Season\", fontsize= 18)\n",
    "ax.set\n",
    "\n",
    "rc('font',**{'family':'sans-serif','sans-serif':['Helvetica']})\n",
    "\n",
    "data = [Bachelorette_age_gap_df['Age_Gap'][Bachelorette_age_gap_df['Season'] == 1],\\\n",
    "               Bachelorette_age_gap_df['Age_Gap'][Bachelorette_age_gap_df['Season'] == 5],\\\n",
    "               Bachelorette_age_gap_df['Age_Gap'][Bachelorette_age_gap_df['Season'] == 6],\\\n",
    "              Bachelorette_age_gap_df['Age_Gap'][Bachelorette_age_gap_df['Season'] == 9],\\\n",
    "              Bachelorette_age_gap_df['Age_Gap'][Bachelorette_age_gap_df['Season'] == 10],\\\n",
    "              Bachelorette_age_gap_df['Age_Gap'][Bachelorette_age_gap_df['Season'] == 11],\\\n",
    "              Bachelorette_age_gap_df['Age_Gap'][Bachelorette_age_gap_df['Season'] == 12]]\n",
    "\n",
    "ax.boxplot(data,\n",
    "           labels= [1,5,6,9,10,11,12],\n",
    "           showmeans= True)\n",
    "\n",
    "plt.xlabel(\"Bachelorette Season\",fontsize=14)\n",
    "plt.ylabel(\"Age Difference\",fontsize=14)\n",
    "\n",
    "plt.show()"
   ]
  },
  {
   "cell_type": "markdown",
   "metadata": {},
   "source": [
    "<font color=137E54>The graphical testing of homogeneity of variances supports the statistical testing findings which is the groups have equal variance.<br/>\n",
    "<font color=137E54>By default box plots show the median (orange line in graph above). The green triangle is the mean for each group which was an additional argument that was passed into the method."
   ]
  },
  {
   "cell_type": "code",
   "execution_count": null,
   "metadata": {},
   "outputs": [],
   "source": []
  },
  {
   "cell_type": "markdown",
   "metadata": {},
   "source": [
    "## <font color=0ABB75> One-Way ANOVA"
   ]
  },
  {
   "cell_type": "markdown",
   "metadata": {},
   "source": [
    "<font color=137E54> Here I have manually computed all the statistics required to conduct one-way ANOVA. I then checked the results by comparing it agains statsmodel and scipy.stats ANOVA models."
   ]
  },
  {
   "cell_type": "code",
   "execution_count": 43,
   "metadata": {},
   "outputs": [
    {
     "data": {
      "text/html": [
       "<div>\n",
       "<style scoped>\n",
       "    .dataframe tbody tr th:only-of-type {\n",
       "        vertical-align: middle;\n",
       "    }\n",
       "\n",
       "    .dataframe tbody tr th {\n",
       "        vertical-align: top;\n",
       "    }\n",
       "\n",
       "    .dataframe thead th {\n",
       "        text-align: right;\n",
       "    }\n",
       "</style>\n",
       "<table border=\"1\" class=\"dataframe\">\n",
       "  <thead>\n",
       "    <tr style=\"text-align: right;\">\n",
       "      <th></th>\n",
       "      <th>Season</th>\n",
       "      <th>Bachelorette_Name</th>\n",
       "      <th>Sample_Size</th>\n",
       "      <th>Sample_Mean</th>\n",
       "    </tr>\n",
       "  </thead>\n",
       "  <tbody>\n",
       "    <tr>\n",
       "      <td>0</td>\n",
       "      <td>1</td>\n",
       "      <td>Trista Rehn</td>\n",
       "      <td>25</td>\n",
       "      <td>-0.280000</td>\n",
       "    </tr>\n",
       "    <tr>\n",
       "      <td>1</td>\n",
       "      <td>5</td>\n",
       "      <td>Jillian Harris</td>\n",
       "      <td>30</td>\n",
       "      <td>-0.466667</td>\n",
       "    </tr>\n",
       "    <tr>\n",
       "      <td>2</td>\n",
       "      <td>6</td>\n",
       "      <td>Ali Fedotowsky</td>\n",
       "      <td>25</td>\n",
       "      <td>3.160000</td>\n",
       "    </tr>\n",
       "    <tr>\n",
       "      <td>3</td>\n",
       "      <td>9</td>\n",
       "      <td>Desiree Hartsock</td>\n",
       "      <td>25</td>\n",
       "      <td>1.680000</td>\n",
       "    </tr>\n",
       "    <tr>\n",
       "      <td>4</td>\n",
       "      <td>10</td>\n",
       "      <td>Andi Dorfman</td>\n",
       "      <td>25</td>\n",
       "      <td>3.520000</td>\n",
       "    </tr>\n",
       "    <tr>\n",
       "      <td>5</td>\n",
       "      <td>11</td>\n",
       "      <td>Kaitlyn Bristowe</td>\n",
       "      <td>26</td>\n",
       "      <td>0.500000</td>\n",
       "    </tr>\n",
       "    <tr>\n",
       "      <td>6</td>\n",
       "      <td>12</td>\n",
       "      <td>Joelle \"JoJo\" Fletcher</td>\n",
       "      <td>26</td>\n",
       "      <td>3.307692</td>\n",
       "    </tr>\n",
       "  </tbody>\n",
       "</table>\n",
       "</div>"
      ],
      "text/plain": [
       "   Season       Bachelorette_Name  Sample_Size  Sample_Mean\n",
       "0       1             Trista Rehn           25    -0.280000\n",
       "1       5          Jillian Harris           30    -0.466667\n",
       "2       6          Ali Fedotowsky           25     3.160000\n",
       "3       9        Desiree Hartsock           25     1.680000\n",
       "4      10            Andi Dorfman           25     3.520000\n",
       "5      11        Kaitlyn Bristowe           26     0.500000\n",
       "6      12  Joelle \"JoJo\" Fletcher           26     3.307692"
      ]
     },
     "execution_count": 43,
     "metadata": {},
     "output_type": "execute_result"
    }
   ],
   "source": [
    "age_gap_stat_summary = Bachelorette_age_gap_df.groupby(['Season','Bachelorette_Name']).agg({'Contestant_Name': 'count','Age_Gap':'mean'})\\\n",
    ".reset_index()\n",
    "age_gap_stat_summary.columns = ['Season','Bachelorette_Name','Sample_Size','Sample_Mean']\n",
    "age_gap_stat_summary"
   ]
  },
  {
   "cell_type": "code",
   "execution_count": 44,
   "metadata": {},
   "outputs": [],
   "source": [
    "grand_mean = Bachelorette_age_gap_df['Age_Gap'].mean()\n",
    "df_within = age_gap_stat_summary['Sample_Size'].sum()- len(age_gap_stat_summary)\n",
    "df_between = len(age_gap_stat_summary)-1"
   ]
  },
  {
   "cell_type": "code",
   "execution_count": 45,
   "metadata": {},
   "outputs": [
    {
     "name": "stdout",
     "output_type": "stream",
     "text": [
      "Grand mean is: 1.58\n",
      "df within is: 175\n",
      "df between is: 6\n"
     ]
    }
   ],
   "source": [
    "print('Grand mean is: '+str(round(grand_mean,2)))\n",
    "print('df within is: '+str(df_within))\n",
    "print('df between is: '+str(df_between))"
   ]
  },
  {
   "cell_type": "code",
   "execution_count": 46,
   "metadata": {},
   "outputs": [],
   "source": [
    "calcs_df = age_gap_stat_summary[['Season','Sample_Mean']]"
   ]
  },
  {
   "cell_type": "code",
   "execution_count": 61,
   "metadata": {},
   "outputs": [],
   "source": [
    "Bachelorette_age_gap_df = pd.merge(Bachelorette_age_gap_df,calcs_df,left_on=  ['Season'],\\\n",
    "                   right_on= ['Season'], \\\n",
    "                   how = 'left')"
   ]
  },
  {
   "cell_type": "code",
   "execution_count": 59,
   "metadata": {},
   "outputs": [],
   "source": [
    "age_gap_stat_summary['SS_between_group']=((age_gap_stat_summary['Sample_Mean']-grand_mean)**2)*age_gap_stat_summary['Sample_Size']"
   ]
  },
  {
   "cell_type": "code",
   "execution_count": 60,
   "metadata": {},
   "outputs": [
    {
     "data": {
      "text/html": [
       "<div>\n",
       "<style scoped>\n",
       "    .dataframe tbody tr th:only-of-type {\n",
       "        vertical-align: middle;\n",
       "    }\n",
       "\n",
       "    .dataframe tbody tr th {\n",
       "        vertical-align: top;\n",
       "    }\n",
       "\n",
       "    .dataframe thead th {\n",
       "        text-align: right;\n",
       "    }\n",
       "</style>\n",
       "<table border=\"1\" class=\"dataframe\">\n",
       "  <thead>\n",
       "    <tr style=\"text-align: right;\">\n",
       "      <th></th>\n",
       "      <th>Season</th>\n",
       "      <th>Bachelorette_Name</th>\n",
       "      <th>Sample_Size</th>\n",
       "      <th>Sample_Mean</th>\n",
       "      <th>SS_between</th>\n",
       "      <th>SS_between_group</th>\n",
       "    </tr>\n",
       "  </thead>\n",
       "  <tbody>\n",
       "    <tr>\n",
       "      <td>0</td>\n",
       "      <td>1</td>\n",
       "      <td>Trista Rehn</td>\n",
       "      <td>25</td>\n",
       "      <td>-0.280000</td>\n",
       "      <td>86.204083</td>\n",
       "      <td>86.204083</td>\n",
       "    </tr>\n",
       "    <tr>\n",
       "      <td>1</td>\n",
       "      <td>5</td>\n",
       "      <td>Jillian Harris</td>\n",
       "      <td>30</td>\n",
       "      <td>-0.466667</td>\n",
       "      <td>125.287771</td>\n",
       "      <td>125.287771</td>\n",
       "    </tr>\n",
       "    <tr>\n",
       "      <td>2</td>\n",
       "      <td>6</td>\n",
       "      <td>Ali Fedotowsky</td>\n",
       "      <td>25</td>\n",
       "      <td>3.160000</td>\n",
       "      <td>62.653314</td>\n",
       "      <td>62.653314</td>\n",
       "    </tr>\n",
       "    <tr>\n",
       "      <td>3</td>\n",
       "      <td>9</td>\n",
       "      <td>Desiree Hartsock</td>\n",
       "      <td>25</td>\n",
       "      <td>1.680000</td>\n",
       "      <td>0.265621</td>\n",
       "      <td>0.265621</td>\n",
       "    </tr>\n",
       "    <tr>\n",
       "      <td>4</td>\n",
       "      <td>10</td>\n",
       "      <td>Andi Dorfman</td>\n",
       "      <td>25</td>\n",
       "      <td>3.520000</td>\n",
       "      <td>94.388698</td>\n",
       "      <td>94.388698</td>\n",
       "    </tr>\n",
       "    <tr>\n",
       "      <td>5</td>\n",
       "      <td>11</td>\n",
       "      <td>Kaitlyn Bristowe</td>\n",
       "      <td>26</td>\n",
       "      <td>0.500000</td>\n",
       "      <td>30.153846</td>\n",
       "      <td>30.153846</td>\n",
       "    </tr>\n",
       "    <tr>\n",
       "      <td>6</td>\n",
       "      <td>12</td>\n",
       "      <td>Joelle \"JoJo\" Fletcher</td>\n",
       "      <td>26</td>\n",
       "      <td>3.307692</td>\n",
       "      <td>77.884615</td>\n",
       "      <td>77.884615</td>\n",
       "    </tr>\n",
       "  </tbody>\n",
       "</table>\n",
       "</div>"
      ],
      "text/plain": [
       "   Season       Bachelorette_Name  Sample_Size  Sample_Mean  SS_between  \\\n",
       "0       1             Trista Rehn           25    -0.280000   86.204083   \n",
       "1       5          Jillian Harris           30    -0.466667  125.287771   \n",
       "2       6          Ali Fedotowsky           25     3.160000   62.653314   \n",
       "3       9        Desiree Hartsock           25     1.680000    0.265621   \n",
       "4      10            Andi Dorfman           25     3.520000   94.388698   \n",
       "5      11        Kaitlyn Bristowe           26     0.500000   30.153846   \n",
       "6      12  Joelle \"JoJo\" Fletcher           26     3.307692   77.884615   \n",
       "\n",
       "   SS_between_group  \n",
       "0         86.204083  \n",
       "1        125.287771  \n",
       "2         62.653314  \n",
       "3          0.265621  \n",
       "4         94.388698  \n",
       "5         30.153846  \n",
       "6         77.884615  "
      ]
     },
     "execution_count": 60,
     "metadata": {},
     "output_type": "execute_result"
    }
   ],
   "source": [
    "age_gap_stat_summary"
   ]
  },
  {
   "cell_type": "code",
   "execution_count": 65,
   "metadata": {},
   "outputs": [
    {
     "data": {
      "text/html": [
       "<div>\n",
       "<style scoped>\n",
       "    .dataframe tbody tr th:only-of-type {\n",
       "        vertical-align: middle;\n",
       "    }\n",
       "\n",
       "    .dataframe tbody tr th {\n",
       "        vertical-align: top;\n",
       "    }\n",
       "\n",
       "    .dataframe thead th {\n",
       "        text-align: right;\n",
       "    }\n",
       "</style>\n",
       "<table border=\"1\" class=\"dataframe\">\n",
       "  <thead>\n",
       "    <tr style=\"text-align: right;\">\n",
       "      <th></th>\n",
       "      <th>Contestant_Name</th>\n",
       "      <th>Contestant_Age</th>\n",
       "      <th>Bachelorette_Age</th>\n",
       "      <th>Season</th>\n",
       "      <th>Bachelorette_Name</th>\n",
       "      <th>Age_Gap</th>\n",
       "      <th>Sample_Mean</th>\n",
       "      <th>SS_within_group</th>\n",
       "    </tr>\n",
       "  </thead>\n",
       "  <tbody>\n",
       "    <tr>\n",
       "      <td>0</td>\n",
       "      <td>Ryan Sutter</td>\n",
       "      <td>29</td>\n",
       "      <td>30.0</td>\n",
       "      <td>1</td>\n",
       "      <td>Trista Rehn</td>\n",
       "      <td>-1.0</td>\n",
       "      <td>-0.28</td>\n",
       "      <td>0.5184</td>\n",
       "    </tr>\n",
       "    <tr>\n",
       "      <td>1</td>\n",
       "      <td>Charlie Maher</td>\n",
       "      <td>28</td>\n",
       "      <td>30.0</td>\n",
       "      <td>1</td>\n",
       "      <td>Trista Rehn</td>\n",
       "      <td>-2.0</td>\n",
       "      <td>-0.28</td>\n",
       "      <td>2.9584</td>\n",
       "    </tr>\n",
       "    <tr>\n",
       "      <td>2</td>\n",
       "      <td>Russ</td>\n",
       "      <td>30</td>\n",
       "      <td>30.0</td>\n",
       "      <td>1</td>\n",
       "      <td>Trista Rehn</td>\n",
       "      <td>0.0</td>\n",
       "      <td>-0.28</td>\n",
       "      <td>0.0784</td>\n",
       "    </tr>\n",
       "    <tr>\n",
       "      <td>3</td>\n",
       "      <td>Greg T.</td>\n",
       "      <td>28</td>\n",
       "      <td>30.0</td>\n",
       "      <td>1</td>\n",
       "      <td>Trista Rehn</td>\n",
       "      <td>-2.0</td>\n",
       "      <td>-0.28</td>\n",
       "      <td>2.9584</td>\n",
       "    </tr>\n",
       "    <tr>\n",
       "      <td>4</td>\n",
       "      <td>Bob Guiney</td>\n",
       "      <td>31</td>\n",
       "      <td>30.0</td>\n",
       "      <td>1</td>\n",
       "      <td>Trista Rehn</td>\n",
       "      <td>1.0</td>\n",
       "      <td>-0.28</td>\n",
       "      <td>1.6384</td>\n",
       "    </tr>\n",
       "  </tbody>\n",
       "</table>\n",
       "</div>"
      ],
      "text/plain": [
       "  Contestant_Name  Contestant_Age  Bachelorette_Age  Season Bachelorette_Name  \\\n",
       "0     Ryan Sutter              29              30.0       1       Trista Rehn   \n",
       "1   Charlie Maher              28              30.0       1       Trista Rehn   \n",
       "2            Russ              30              30.0       1       Trista Rehn   \n",
       "3         Greg T.              28              30.0       1       Trista Rehn   \n",
       "4      Bob Guiney              31              30.0       1       Trista Rehn   \n",
       "\n",
       "   Age_Gap  Sample_Mean  SS_within_group  \n",
       "0     -1.0        -0.28           0.5184  \n",
       "1     -2.0        -0.28           2.9584  \n",
       "2      0.0        -0.28           0.0784  \n",
       "3     -2.0        -0.28           2.9584  \n",
       "4      1.0        -0.28           1.6384  "
      ]
     },
     "execution_count": 65,
     "metadata": {},
     "output_type": "execute_result"
    }
   ],
   "source": [
    "Bachelorette_age_gap_df.head()"
   ]
  },
  {
   "cell_type": "code",
   "execution_count": 64,
   "metadata": {},
   "outputs": [],
   "source": [
    "Bachelorette_age_gap_df['SS_within_group']=((Bachelorette_age_gap_df['Age_Gap']-Bachelorette_age_gap_df['Sample_Mean'])**2)"
   ]
  },
  {
   "cell_type": "code",
   "execution_count": 67,
   "metadata": {},
   "outputs": [],
   "source": [
    "SS_between = age_gap_stat_summary['SS_between_group'].sum()\n",
    "SS_within = Bachelorette_age_gap_df['SS_within_group'].sum()"
   ]
  },
  {
   "cell_type": "code",
   "execution_count": 68,
   "metadata": {},
   "outputs": [],
   "source": [
    "MS_between = SS_between/df_between\n",
    "MS_within = SS_within/df_within"
   ]
  },
  {
   "cell_type": "code",
   "execution_count": 69,
   "metadata": {},
   "outputs": [],
   "source": [
    "F_statistic = MS_between/MS_within"
   ]
  },
  {
   "cell_type": "code",
   "execution_count": 70,
   "metadata": {},
   "outputs": [
    {
     "data": {
      "text/plain": [
       "10.03747313764076"
      ]
     },
     "execution_count": 70,
     "metadata": {},
     "output_type": "execute_result"
    }
   ],
   "source": [
    "F_statistic"
   ]
  },
  {
   "cell_type": "code",
   "execution_count": 71,
   "metadata": {},
   "outputs": [],
   "source": [
    "proportion_of_variation_due_to_between_group_diff = SS_between/(SS_between+SS_within)"
   ]
  },
  {
   "cell_type": "code",
   "execution_count": 72,
   "metadata": {},
   "outputs": [
    {
     "data": {
      "text/plain": [
       "0.2560309494799303"
      ]
     },
     "execution_count": 72,
     "metadata": {},
     "output_type": "execute_result"
    }
   ],
   "source": [
    "proportion_of_variation_due_to_between_group_diff"
   ]
  },
  {
   "cell_type": "code",
   "execution_count": 77,
   "metadata": {},
   "outputs": [
    {
     "name": "stdout",
     "output_type": "stream",
     "text": [
      "critical F-statistic for df within: 175 and df between: 6 and alpha 0.05 is: 2.15.\n"
     ]
    }
   ],
   "source": [
    "print('critical F-statistic for '+'df within: '+str(df_within)+' and df between: '+str(df_between)+' and alpha 0.05 is: 2.15.')"
   ]
  },
  {
   "cell_type": "markdown",
   "metadata": {},
   "source": [
    "<font color=137E54> Our calculated F-statistics is greater that F-critical. We will reject the null hypothesis. This means that at least one of the seasons had statistically significant different average age gap between the contestants and the bachelorette. "
   ]
  },
  {
   "cell_type": "code",
   "execution_count": null,
   "metadata": {},
   "outputs": [],
   "source": []
  },
  {
   "cell_type": "code",
   "execution_count": 80,
   "metadata": {},
   "outputs": [
    {
     "name": "stdout",
     "output_type": "stream",
     "text": [
      "\n",
      "\n"
     ]
    },
    {
     "data": {
      "text/html": [
       "<div>\n",
       "<style scoped>\n",
       "    .dataframe tbody tr th:only-of-type {\n",
       "        vertical-align: middle;\n",
       "    }\n",
       "\n",
       "    .dataframe tbody tr th {\n",
       "        vertical-align: top;\n",
       "    }\n",
       "\n",
       "    .dataframe thead th {\n",
       "        text-align: right;\n",
       "    }\n",
       "</style>\n",
       "<table border=\"1\" class=\"dataframe\">\n",
       "  <thead>\n",
       "    <tr style=\"text-align: right;\">\n",
       "      <th></th>\n",
       "      <th>Variable</th>\n",
       "      <th>N</th>\n",
       "      <th>Mean</th>\n",
       "      <th>SD</th>\n",
       "      <th>SE</th>\n",
       "      <th>95% Conf.</th>\n",
       "      <th>Interval</th>\n",
       "    </tr>\n",
       "  </thead>\n",
       "  <tbody>\n",
       "    <tr>\n",
       "      <td>0</td>\n",
       "      <td>Age_Gap</td>\n",
       "      <td>182.0</td>\n",
       "      <td>1.5769</td>\n",
       "      <td>3.2077</td>\n",
       "      <td>0.2378</td>\n",
       "      <td>1.1078</td>\n",
       "      <td>2.0461</td>\n",
       "    </tr>\n",
       "  </tbody>\n",
       "</table>\n",
       "</div>"
      ],
      "text/plain": [
       "  Variable      N    Mean      SD      SE  95% Conf.  Interval\n",
       "0  Age_Gap  182.0  1.5769  3.2077  0.2378     1.1078    2.0461"
      ]
     },
     "execution_count": 80,
     "metadata": {},
     "output_type": "execute_result"
    }
   ],
   "source": [
    "rp.summary_cont(Bachelorette_age_gap_df['Age_Gap'])"
   ]
  },
  {
   "cell_type": "code",
   "execution_count": 81,
   "metadata": {
    "jupyter": {
     "source_hidden": true
    }
   },
   "outputs": [
    {
     "name": "stdout",
     "output_type": "stream",
     "text": [
      "\n",
      "\n"
     ]
    },
    {
     "data": {
      "text/html": [
       "<div>\n",
       "<style scoped>\n",
       "    .dataframe tbody tr th:only-of-type {\n",
       "        vertical-align: middle;\n",
       "    }\n",
       "\n",
       "    .dataframe tbody tr th {\n",
       "        vertical-align: top;\n",
       "    }\n",
       "\n",
       "    .dataframe thead th {\n",
       "        text-align: right;\n",
       "    }\n",
       "</style>\n",
       "<table border=\"1\" class=\"dataframe\">\n",
       "  <thead>\n",
       "    <tr style=\"text-align: right;\">\n",
       "      <th></th>\n",
       "      <th>N</th>\n",
       "      <th>Mean</th>\n",
       "      <th>SD</th>\n",
       "      <th>SE</th>\n",
       "      <th>95% Conf.</th>\n",
       "      <th>Interval</th>\n",
       "    </tr>\n",
       "    <tr>\n",
       "      <th>Season</th>\n",
       "      <th></th>\n",
       "      <th></th>\n",
       "      <th></th>\n",
       "      <th></th>\n",
       "      <th></th>\n",
       "      <th></th>\n",
       "    </tr>\n",
       "  </thead>\n",
       "  <tbody>\n",
       "    <tr>\n",
       "      <td>1</td>\n",
       "      <td>25</td>\n",
       "      <td>-0.2800</td>\n",
       "      <td>4.0365</td>\n",
       "      <td>0.8073</td>\n",
       "      <td>-1.9462</td>\n",
       "      <td>1.3862</td>\n",
       "    </tr>\n",
       "    <tr>\n",
       "      <td>5</td>\n",
       "      <td>30</td>\n",
       "      <td>-0.4667</td>\n",
       "      <td>2.7131</td>\n",
       "      <td>0.4953</td>\n",
       "      <td>-1.4798</td>\n",
       "      <td>0.5464</td>\n",
       "    </tr>\n",
       "    <tr>\n",
       "      <td>6</td>\n",
       "      <td>25</td>\n",
       "      <td>3.1600</td>\n",
       "      <td>2.5606</td>\n",
       "      <td>0.5121</td>\n",
       "      <td>2.1030</td>\n",
       "      <td>4.2170</td>\n",
       "    </tr>\n",
       "    <tr>\n",
       "      <td>9</td>\n",
       "      <td>25</td>\n",
       "      <td>1.6800</td>\n",
       "      <td>2.2308</td>\n",
       "      <td>0.4462</td>\n",
       "      <td>0.7592</td>\n",
       "      <td>2.6008</td>\n",
       "    </tr>\n",
       "    <tr>\n",
       "      <td>10</td>\n",
       "      <td>25</td>\n",
       "      <td>3.5200</td>\n",
       "      <td>2.3826</td>\n",
       "      <td>0.4765</td>\n",
       "      <td>2.5365</td>\n",
       "      <td>4.5035</td>\n",
       "    </tr>\n",
       "    <tr>\n",
       "      <td>11</td>\n",
       "      <td>26</td>\n",
       "      <td>0.5000</td>\n",
       "      <td>2.9563</td>\n",
       "      <td>0.5798</td>\n",
       "      <td>-0.6941</td>\n",
       "      <td>1.6941</td>\n",
       "    </tr>\n",
       "    <tr>\n",
       "      <td>12</td>\n",
       "      <td>26</td>\n",
       "      <td>3.3077</td>\n",
       "      <td>2.4457</td>\n",
       "      <td>0.4796</td>\n",
       "      <td>2.3198</td>\n",
       "      <td>4.2955</td>\n",
       "    </tr>\n",
       "  </tbody>\n",
       "</table>\n",
       "</div>"
      ],
      "text/plain": [
       "         N    Mean      SD      SE  95% Conf.  Interval\n",
       "Season                                                 \n",
       "1       25 -0.2800  4.0365  0.8073    -1.9462    1.3862\n",
       "5       30 -0.4667  2.7131  0.4953    -1.4798    0.5464\n",
       "6       25  3.1600  2.5606  0.5121     2.1030    4.2170\n",
       "9       25  1.6800  2.2308  0.4462     0.7592    2.6008\n",
       "10      25  3.5200  2.3826  0.4765     2.5365    4.5035\n",
       "11      26  0.5000  2.9563  0.5798    -0.6941    1.6941\n",
       "12      26  3.3077  2.4457  0.4796     2.3198    4.2955"
      ]
     },
     "execution_count": 81,
     "metadata": {},
     "output_type": "execute_result"
    }
   ],
   "source": [
    "rp.summary_cont(Bachelorette_age_gap_df['Age_Gap'].groupby(Bachelorette_age_gap_df['Season']))"
   ]
  },
  {
   "cell_type": "code",
   "execution_count": 85,
   "metadata": {},
   "outputs": [
    {
     "data": {
      "text/plain": [
       "F_onewayResult(statistic=10.037473137640761, pvalue=1.5990495398830284e-09)"
      ]
     },
     "execution_count": 85,
     "metadata": {},
     "output_type": "execute_result"
    }
   ],
   "source": [
    "stats.f_oneway(Bachelorette_age_gap_df['Age_Gap'][Bachelorette_age_gap_df['Season'] == 1],\\\n",
    "               Bachelorette_age_gap_df['Age_Gap'][Bachelorette_age_gap_df['Season'] == 5],\\\n",
    "               Bachelorette_age_gap_df['Age_Gap'][Bachelorette_age_gap_df['Season'] == 6],\\\n",
    "              Bachelorette_age_gap_df['Age_Gap'][Bachelorette_age_gap_df['Season'] == 9],\\\n",
    "              Bachelorette_age_gap_df['Age_Gap'][Bachelorette_age_gap_df['Season'] == 10],\\\n",
    "              Bachelorette_age_gap_df['Age_Gap'][Bachelorette_age_gap_df['Season'] == 11],\\\n",
    "              Bachelorette_age_gap_df['Age_Gap'][Bachelorette_age_gap_df['Season'] == 12])"
   ]
  },
  {
   "cell_type": "code",
   "execution_count": null,
   "metadata": {},
   "outputs": [],
   "source": []
  },
  {
   "cell_type": "markdown",
   "metadata": {},
   "source": [
    "## <font color=0ABB75> Post-Hoc Tests"
   ]
  },
  {
   "cell_type": "markdown",
   "metadata": {},
   "source": [
    "<font color=137E54> **Tukey Honestly Significant Difference (HSD)**<br/>\n",
    "<font color=137E54>Tests all pairwise group comparisons while controlling for the multiple comparisons which protects the familywise error rate and from making a Type I error"
   ]
  },
  {
   "cell_type": "code",
   "execution_count": 189,
   "metadata": {},
   "outputs": [
    {
     "data": {
      "text/html": [
       "<table class=\"simpletable\">\n",
       "<caption>Multiple Comparison of Means - Tukey HSD, FWER=0.05</caption>\n",
       "<tr>\n",
       "  <th>group1</th> <th>group2</th> <th>meandiff</th>  <th>p-adj</th>  <th>lower</th>   <th>upper</th>  <th>reject</th>\n",
       "</tr>\n",
       "<tr>\n",
       "     <td>1</td>      <td>5</td>    <td>-0.1867</td>   <td>0.9</td>  <td>-2.4596</td> <td>2.0863</td>   <td>False</td>\n",
       "</tr>\n",
       "<tr>\n",
       "     <td>1</td>      <td>6</td>     <td>3.44</td>    <td>0.001</td>  <td>1.066</td>   <td>5.814</td>   <td>True</td> \n",
       "</tr>\n",
       "<tr>\n",
       "     <td>1</td>      <td>9</td>     <td>1.96</td>   <td>0.1794</td> <td>-0.414</td>   <td>4.334</td>   <td>False</td>\n",
       "</tr>\n",
       "<tr>\n",
       "     <td>1</td>     <td>10</td>      <td>3.8</td>    <td>0.001</td>  <td>1.426</td>   <td>6.174</td>   <td>True</td> \n",
       "</tr>\n",
       "<tr>\n",
       "     <td>1</td>     <td>11</td>     <td>0.78</td>     <td>0.9</td>  <td>-1.5711</td> <td>3.1311</td>   <td>False</td>\n",
       "</tr>\n",
       "<tr>\n",
       "     <td>1</td>     <td>12</td>    <td>3.5877</td>   <td>0.001</td> <td>1.2366</td>  <td>5.9388</td>   <td>True</td> \n",
       "</tr>\n",
       "<tr>\n",
       "     <td>5</td>      <td>6</td>    <td>3.6267</td>   <td>0.001</td> <td>1.3537</td>  <td>5.8996</td>   <td>True</td> \n",
       "</tr>\n",
       "<tr>\n",
       "     <td>5</td>      <td>9</td>    <td>2.1467</td>  <td>0.0781</td> <td>-0.1263</td> <td>4.4196</td>   <td>False</td>\n",
       "</tr>\n",
       "<tr>\n",
       "     <td>5</td>     <td>10</td>    <td>3.9867</td>   <td>0.001</td> <td>1.7137</td>  <td>6.2596</td>   <td>True</td> \n",
       "</tr>\n",
       "<tr>\n",
       "     <td>5</td>     <td>11</td>    <td>0.9667</td>   <td>0.844</td> <td>-1.2823</td> <td>3.2156</td>   <td>False</td>\n",
       "</tr>\n",
       "<tr>\n",
       "     <td>5</td>     <td>12</td>    <td>3.7744</td>   <td>0.001</td> <td>1.5254</td>  <td>6.0233</td>   <td>True</td> \n",
       "</tr>\n",
       "<tr>\n",
       "     <td>6</td>      <td>9</td>     <td>-1.48</td>  <td>0.5081</td> <td>-3.854</td>   <td>0.894</td>   <td>False</td>\n",
       "</tr>\n",
       "<tr>\n",
       "     <td>6</td>     <td>10</td>     <td>0.36</td>     <td>0.9</td>  <td>-2.014</td>   <td>2.734</td>   <td>False</td>\n",
       "</tr>\n",
       "<tr>\n",
       "     <td>6</td>     <td>11</td>     <td>-2.66</td>  <td>0.0156</td> <td>-5.0111</td> <td>-0.3089</td>  <td>True</td> \n",
       "</tr>\n",
       "<tr>\n",
       "     <td>6</td>     <td>12</td>    <td>0.1477</td>    <td>0.9</td>  <td>-2.2034</td> <td>2.4988</td>   <td>False</td>\n",
       "</tr>\n",
       "<tr>\n",
       "     <td>9</td>     <td>10</td>     <td>1.84</td>    <td>0.244</td> <td>-0.534</td>   <td>4.214</td>   <td>False</td>\n",
       "</tr>\n",
       "<tr>\n",
       "     <td>9</td>     <td>11</td>     <td>-1.18</td>   <td>0.719</td> <td>-3.5311</td> <td>1.1711</td>   <td>False</td>\n",
       "</tr>\n",
       "<tr>\n",
       "     <td>9</td>     <td>12</td>    <td>1.6277</td>  <td>0.3795</td> <td>-0.7234</td> <td>3.9788</td>   <td>False</td>\n",
       "</tr>\n",
       "<tr>\n",
       "    <td>10</td>     <td>11</td>     <td>-3.02</td>  <td>0.0033</td> <td>-5.3711</td> <td>-0.6689</td>  <td>True</td> \n",
       "</tr>\n",
       "<tr>\n",
       "    <td>10</td>     <td>12</td>    <td>-0.2123</td>   <td>0.9</td>  <td>-2.5634</td> <td>2.1388</td>   <td>False</td>\n",
       "</tr>\n",
       "<tr>\n",
       "    <td>11</td>     <td>12</td>    <td>2.8077</td>  <td>0.0075</td> <td>0.4798</td>  <td>5.1356</td>   <td>True</td> \n",
       "</tr>\n",
       "</table>"
      ],
      "text/plain": [
       "<class 'statsmodels.iolib.table.SimpleTable'>"
      ]
     },
     "execution_count": 189,
     "metadata": {},
     "output_type": "execute_result"
    }
   ],
   "source": [
    "import statsmodels.stats.multicomp as mc\n",
    "\n",
    "comp = mc.MultiComparison(Bachelorette_age_gap_df['Age_Gap'], Bachelorette_age_gap_df['Season'])\n",
    "post_hoc_res = comp.tukeyhsd()\n",
    "post_hoc_res.summary()"
   ]
  },
  {
   "cell_type": "code",
   "execution_count": 194,
   "metadata": {},
   "outputs": [
    {
     "data": {
      "image/png": "[encoded data removed]",
      "text/plain": [
       "<Figure size 720x432 with 1 Axes>"
      ]
     },
     "execution_count": 194,
     "metadata": {},
     "output_type": "execute_result"
    },
    {
     "data": {
      "image/png": "[encoded data removed]",
      "text/plain": [
       "<Figure size 720x432 with 1 Axes>"
      ]
     },
     "metadata": {
      "needs_background": "light"
     },
     "output_type": "display_data"
    }
   ],
   "source": [
    "post_hoc_res.plot_simultaneous(ylabel= \"Season\", xlabel= \"Age Difference\")"
   ]
  },
  {
   "cell_type": "markdown",
   "metadata": {},
   "source": [
    "<font color=137E54> **Bonferroni**<br/>\n",
    "<font color=137E54>Tests groups for a diffence while controlling for the multiple comparisons which protects the familywise error rate and from making a Type I error. "
   ]
  },
  {
   "cell_type": "code",
   "execution_count": null,
   "metadata": {},
   "outputs": [],
   "source": []
  }
 ],
 "metadata": {
  "kernelspec": {
   "display_name": "Python 3",
   "language": "python",
   "name": "python3"
  },
  "language_info": {
   "codemirror_mode": {
    "name": "ipython",
    "version": 3
   },
   "file_extension": ".py",
   "mimetype": "text/x-python",
   "name": "python",
   "nbconvert_exporter": "python",
   "pygments_lexer": "ipython3",
   "version": "3.6.5"
  },
  "widgets": {
   "application/vnd.jupyter.widget-state+json": {
    "state": {},
    "version_major": 2,
    "version_minor": 0
   }
  }
 },
 "nbformat": 4,
 "nbformat_minor": 4
}
